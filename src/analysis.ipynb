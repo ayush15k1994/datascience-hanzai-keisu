{
 "metadata": {
  "name": "",
  "signature": "sha256:c5ca12acb763e968363a8e858a4f8a9da136fbdc100d571aae26b9718a998ae7"
 },
 "nbformat": 3,
 "nbformat_minor": 0,
 "worksheets": [
  {
   "cells": [
    {
     "cell_type": "code",
     "collapsed": false,
     "input": [
      "DATA_DIR = '/home/kedo/Dropbox/CS 194-16/datascience-hanzai-keisu/src/data'\n",
      "\n",
      "import csv\n",
      "import datetime\n",
      "import os\n",
      "from sqlalchemy import (\n",
      "    create_engine,\n",
      "    Column,\n",
      "    Integer,\n",
      "    String,\n",
      "    Date,\n",
      "    Time,\n",
      ")\n",
      "from sqlalchemy.ext.declarative import declarative_base\n",
      "from sqlalchemy.orm import sessionmaker\n",
      "\n",
      "Base = declarative_base()\n",
      "# create a sqlite db in memory\n",
      "# pass in echo=True to debug SQL\n",
      "engine = create_engine('sqlite:////' + os.path.join(DATA_DIR, 'sqlite.db'))\n",
      "Session = sessionmaker(bind=engine)\n",
      "\n",
      "class Incident(Base):\n",
      "    \"\"\"\n",
      "    An incident from the csv file.\n",
      "    Note that the incident number isn't a primary key, so I the row_number (from the CSV) the primary_key\n",
      "    \"\"\"\n",
      "    __tablename__ = 'incidents'\n",
      "    \n",
      "    row_number = Column(Integer, primary_key=True)\n",
      "    number = Column(Integer)\n",
      "    category = Column(String(32))\n",
      "    description = Column(String(64))\n",
      "    date = Column(Date)\n",
      "    time = Column(Time)\n",
      "    pd_district = Column(String(32))\n",
      "    resolution = Column(String(32))\n",
      "    neighborhood = Column(String(32))\n",
      "    \n",
      "    def __repr__(self):\n",
      "        return \"<Row {row}, Incident #{number} '{category}'>\".format(\n",
      "            row=self.row_number,\n",
      "            number=self.number,\n",
      "            category=self.category)\n",
      "\n",
      "# re-create the schema in the db\n",
      "Base.metadata.drop_all(engine)\n",
      "Base.metadata.create_all(engine, checkfirst=True)\n",
      "\n",
      "def parse_sfpd_incidents_csv(filename):\n",
      "    with open(filename, 'rb') as csvfile:\n",
      "        reader = csv.reader(csvfile, delimiter=',')\n",
      "        reader.next() # skip the header\n",
      "        row_number = 0\n",
      "        for row in reader:\n",
      "            yield (row_number, row)\n",
      "            row_number += 1\n",
      "\n",
      "print \"Initiating import of CSV into SQLite\"\n",
      "session = Session()\n",
      "row_generator = parse_sfpd_incidents_csv(os.path.join(DATA_DIR, 'sfpd_incidents_2013_with_neighborhoods.csv'))\n",
      "for (row_number, row) in row_generator:\n",
      "    # sfpd_incidents_2013_with_neighborhoods.csv is in the following format:\n",
      "    # Incident Number,Category,Description,Date,Time,PD District,Resolution,Longitude,Latitude,Neighborhood\n",
      "    # note that there can be more than 1 row with the same incident number\n",
      "    incident = Incident(row_number=row_number,\n",
      "                        number=row[0],\n",
      "                        category=row[1],\n",
      "                        description=row[2],\n",
      "                        date=datetime.datetime.strptime(row[3], '%m/%d/%Y').date(),\n",
      "                        time=datetime.datetime.strptime(row[4], '%H:%M').time(),\n",
      "                        pd_district=row[5],\n",
      "                        resolution=row[6],\n",
      "                        neighborhood=row[9])\n",
      "    session.add(incident)\n",
      "session.commit()\n",
      "print \"Finished importing CSV into SQLite\""
     ],
     "language": "python",
     "metadata": {},
     "outputs": [
      {
       "ename": "SyntaxError",
       "evalue": "invalid syntax (<ipython-input-1-52bcb30328d3>, line 43)",
       "output_type": "pyerr",
       "traceback": [
        "\u001b[1;36m  File \u001b[1;32m\"<ipython-input-1-52bcb30328d3>\"\u001b[1;36m, line \u001b[1;32m43\u001b[0m\n\u001b[1;33m    number=self.number,\u001b[0m\n\u001b[1;37m         ^\u001b[0m\n\u001b[1;31mSyntaxError\u001b[0m\u001b[1;31m:\u001b[0m invalid syntax\n"
       ]
      }
     ],
     "prompt_number": 1
    },
    {
     "cell_type": "code",
     "collapsed": false,
     "input": [
      "session = Session()\n",
      "for instance in session.query(Incident).order_by(Incident.number).limit(10):\n",
      "    print instance"
     ],
     "language": "python",
     "metadata": {},
     "outputs": [
      {
       "output_type": "stream",
       "stream": "stdout",
       "text": [
        "<Incident #10073348 'OTHER OFFENSES'>\n",
        "<Incident #10358128 'OTHER OFFENSES'>\n",
        "<Incident #13082306 'LARCENY/THEFT'>\n",
        "<Incident #13082306 'LARCENY/THEFT'>\n",
        "<Incident #13083003 'LARCENY/THEFT'>\n",
        "<Incident #13083956 'NON-CRIMINAL'>\n",
        "<Incident #13088025 'MISSING PERSON'>\n",
        "<Incident #13103178 'BURGLARY'>\n",
        "<Incident #13105685 'FRAUD'>\n",
        "<Incident #13105685 'FRAUD'>\n"
       ]
      }
     ],
     "prompt_number": 39
    },
    {
     "cell_type": "code",
     "collapsed": false,
     "input": [],
     "language": "python",
     "metadata": {},
     "outputs": []
    }
   ],
   "metadata": {}
  }
 ]
}